{
  "nbformat": 4,
  "nbformat_minor": 0,
  "metadata": {
    "colab": {
      "provenance": [],
      "mount_file_id": "https://github.com/Kensuzuki95/EY_Assignment/blob/main/EY_Assignment.ipynb",
      "authorship_tag": "ABX9TyMVt/LJZ5SeEcGytLr3oTwG",
      "include_colab_link": true
    },
    "kernelspec": {
      "name": "python3",
      "display_name": "Python 3"
    },
    "language_info": {
      "name": "python"
    }
  },
  "cells": [
    {
      "cell_type": "markdown",
      "metadata": {
        "id": "view-in-github",
        "colab_type": "text"
      },
      "source": [
        "<a href=\"https://colab.research.google.com/github/Kensuzuki95/EY_Assignment/blob/main/EY_Assignment.ipynb\" target=\"_parent\"><img src=\"https://colab.research.google.com/assets/colab-badge.svg\" alt=\"Open In Colab\"/></a>"
      ]
    },
    {
      "cell_type": "markdown",
      "source": [
        "#Download Packages"
      ],
      "metadata": {
        "id": "K9DRkyG8VpgH"
      }
    },
    {
      "cell_type": "code",
      "execution_count": 1,
      "metadata": {
        "id": "SCMTAD2oVSbZ",
        "colab": {
          "base_uri": "https://localhost:8080/"
        },
        "outputId": "015171d5-c8bc-482d-c771-75ad7f95bb56"
      },
      "outputs": [
        {
          "output_type": "stream",
          "name": "stdout",
          "text": [
            "Requirement already satisfied: pandas in /usr/local/lib/python3.10/dist-packages (1.5.3)\n",
            "Collecting pyxlsb\n",
            "  Downloading pyxlsb-1.0.10-py2.py3-none-any.whl (23 kB)\n",
            "Requirement already satisfied: python-dateutil>=2.8.1 in /usr/local/lib/python3.10/dist-packages (from pandas) (2.8.2)\n",
            "Requirement already satisfied: pytz>=2020.1 in /usr/local/lib/python3.10/dist-packages (from pandas) (2022.7.1)\n",
            "Requirement already satisfied: numpy>=1.21.0 in /usr/local/lib/python3.10/dist-packages (from pandas) (1.22.4)\n",
            "Requirement already satisfied: six>=1.5 in /usr/local/lib/python3.10/dist-packages (from python-dateutil>=2.8.1->pandas) (1.16.0)\n",
            "Installing collected packages: pyxlsb\n",
            "Successfully installed pyxlsb-1.0.10\n"
          ]
        }
      ],
      "source": [
        "import os\n",
        "import pandas as pd\n",
        "import xlrd\n",
        "import openpyxl\n",
        "import glob\n",
        "import shutil\n",
        "!pip install pandas pyxlsb"
      ]
    },
    {
      "cell_type": "markdown",
      "source": [
        "# Investigate Folder Content"
      ],
      "metadata": {
        "id": "QFhfMnYK8WWm"
      }
    },
    {
      "cell_type": "code",
      "source": [
        "# folder path\n",
        "dir_path = r'/content/drive/MyDrive/EY Recruitment Documents/invoice'\n",
        "count = 0\n",
        "# Iterate directory\n",
        "for path in os.listdir(dir_path):\n",
        "    # check if current path is a file\n",
        "    if os.path.isfile(os.path.join(dir_path, path)):\n",
        "        count += 1\n",
        "print('File count:', count)"
      ],
      "metadata": {
        "colab": {
          "base_uri": "https://localhost:8080/"
        },
        "id": "ss6Zu6RzyW8z",
        "outputId": "a0391359-2aab-4cc8-b5ff-1073ea661a8a"
      },
      "execution_count": 2,
      "outputs": [
        {
          "output_type": "stream",
          "name": "stdout",
          "text": [
            "File count: 4406\n"
          ]
        }
      ]
    },
    {
      "cell_type": "code",
      "source": [
        "tifCounter = len(glob.glob1('/content/drive/MyDrive/EY Recruitment Documents/invoice',\"*.xlsx\"))\n",
        "tifCounter"
      ],
      "metadata": {
        "colab": {
          "base_uri": "https://localhost:8080/"
        },
        "id": "bts3cSCWwBim",
        "outputId": "1ac827be-8518-4ea5-81b6-1b94aab05423"
      },
      "execution_count": 3,
      "outputs": [
        {
          "output_type": "execute_result",
          "data": {
            "text/plain": [
              "4400"
            ]
          },
          "metadata": {},
          "execution_count": 3
        }
      ]
    },
    {
      "cell_type": "code",
      "source": [
        "tifCounter = len(glob.glob1('/content/drive/MyDrive/EY Recruitment Documents/invoice',\"*.xlsb\"))\n",
        "tifCounter"
      ],
      "metadata": {
        "colab": {
          "base_uri": "https://localhost:8080/"
        },
        "id": "szEaciNRwfpW",
        "outputId": "d9791b95-878b-46e9-c4b2-6c386f4cc4c2"
      },
      "execution_count": 4,
      "outputs": [
        {
          "output_type": "execute_result",
          "data": {
            "text/plain": [
              "6"
            ]
          },
          "metadata": {},
          "execution_count": 4
        }
      ]
    },
    {
      "cell_type": "markdown",
      "source": [
        "## Sort Files depending on Extension Types"
      ],
      "metadata": {
        "id": "Qmp8LRD08jEA"
      }
    },
    {
      "cell_type": "code",
      "source": [
        "def extract_files_by_extension(source_folder, destination_folder, extension):\n",
        "    # Create the destination folder if it doesn't exist\n",
        "    if not os.path.exists(destination_folder):\n",
        "        os.makedirs(destination_folder)\n",
        "\n",
        "    # Iterate over files in the source folder\n",
        "    for filename in os.listdir(source_folder):\n",
        "        if filename.endswith(extension):\n",
        "            # Get the full path of the source file\n",
        "            source_file = os.path.join(source_folder, filename)\n",
        "\n",
        "            # Get the full path of the destination file\n",
        "            destination_file = os.path.join(destination_folder, filename)\n",
        "\n",
        "            # Copy the file to the destination folder\n",
        "            shutil.copy2(source_file, destination_file)"
      ],
      "metadata": {
        "id": "1XLfvSsD8bjd"
      },
      "execution_count": 5,
      "outputs": []
    },
    {
      "cell_type": "markdown",
      "source": [
        "### Folder with .xlsx extension Invoices"
      ],
      "metadata": {
        "id": "w9A4JG0ZjlmX"
      }
    },
    {
      "cell_type": "code",
      "source": [
        "# Create a folder with only .xlsx files\n",
        "source_folder = '/content/drive/MyDrive/EY Recruitment Documents/invoice'\n",
        "destination_folder = '/content/drive/MyDrive/EY Recruitment Documents/invoice_xlsx'\n",
        "extension = '.xlsx'\n",
        "\n",
        "extract_files_by_extension(source_folder, destination_folder, extension)"
      ],
      "metadata": {
        "id": "ElXZ1Stsibqs"
      },
      "execution_count": null,
      "outputs": []
    },
    {
      "cell_type": "code",
      "source": [
        "tifCounter = len(glob.glob1('/content/drive/MyDrive/EY Recruitment Documents/invoice_xlsx',\"*.xlsx\"))\n",
        "tifCounter"
      ],
      "metadata": {
        "id": "N3HERYy_lg34"
      },
      "execution_count": null,
      "outputs": []
    },
    {
      "cell_type": "markdown",
      "source": [
        "### Folder with .xlsb extention Invoices"
      ],
      "metadata": {
        "id": "XzDtab3IjqjK"
      }
    },
    {
      "cell_type": "code",
      "source": [
        "# Create a folder with only .xlsb files\n",
        "source_folder = '/content/drive/MyDrive/EY Recruitment Documents/invoice'\n",
        "destination_folder = '/content/drive/MyDrive/EY Recruitment Documents/invoice_xlsb'\n",
        "extension = '.xlsb'\n",
        "\n",
        "extract_files_by_extension(source_folder, destination_folder, extension)"
      ],
      "metadata": {
        "id": "taPiFaifi1m2"
      },
      "execution_count": null,
      "outputs": []
    },
    {
      "cell_type": "code",
      "source": [
        "tifCounter = len(glob.glob1('/content/drive/MyDrive/EY Recruitment Documents/invoice_xlsb',\"*.xlsb\"))\n",
        "tifCounter"
      ],
      "metadata": {
        "id": "DEIDef7dlooM"
      },
      "execution_count": null,
      "outputs": []
    },
    {
      "cell_type": "code",
      "source": [
        "def convert_xlsb_to_xlsx(input_folder, output_folder):\n",
        "    # Get a list of all files in the input folder\n",
        "    files = os.listdir(input_folder)\n",
        "\n",
        "    # Filter out only the .xlsb files\n",
        "    xlsb_files = [file for file in files if file.endswith('.xlsb')]\n",
        "\n",
        "    # Iterate over the .xlsb files and convert them to .xlsx\n",
        "    for file in xlsb_files:\n",
        "        # Construct the input file path\n",
        "        input_file_path = os.path.join(input_folder, file)\n",
        "\n",
        "        # Construct the output file path by replacing the extension and adding the output folder\n",
        "        output_file_path = os.path.join(output_folder, os.path.splitext(file)[0] + '.xlsx')\n",
        "\n",
        "        # Read the .xlsb file using pandas\n",
        "        df = pd.read_excel(input_file_path, engine='pyxlsb')\n",
        "\n",
        "        # Write the DataFrame to the .xlsx file\n",
        "        df.to_excel(output_file_path, index=False)\n",
        "\n",
        "        print(f\"Converted {input_file_path} to {output_file_path}\")"
      ],
      "metadata": {
        "id": "Xh0-niOUw1gL"
      },
      "execution_count": null,
      "outputs": []
    },
    {
      "cell_type": "code",
      "source": [
        "# Provide the input and output folder paths\n",
        "input_folder = '/content/drive/MyDrive/EY Recruitment Documents/invoice_xlsb'\n",
        "output_folder = '/content/drive/MyDrive/EY Recruitment Documents/invoice_xlsb_to_xlsx'\n",
        "\n",
        "# Create the output folder if it doesn't exist\n",
        "os.makedirs(output_folder, exist_ok=True)\n",
        "\n",
        "convert_xlsb_to_xlsx(input_folder, output_folder)"
      ],
      "metadata": {
        "id": "5Jv43PoAxDhJ"
      },
      "execution_count": null,
      "outputs": []
    },
    {
      "cell_type": "markdown",
      "source": [
        "#Extract Data from Files"
      ],
      "metadata": {
        "id": "5FC_jxZA8d03"
      }
    },
    {
      "cell_type": "code",
      "source": [
        "def extract_invoice_data(file_path):\n",
        "    wb = openpyxl.load_workbook(file_path)\n",
        "    sheet = wb.active\n",
        "\n",
        "    invoice_data = {}\n",
        "\n",
        "    # Extract data from specific cells\n",
        "    invoice_data['file_name'] = os.path.basename(file_path)\n",
        "    invoice_data['store_name'] = sheet['A2'].value\n",
        "    invoice_data['invoice_number'] = sheet['G2'].value\n",
        "    invoice_data['invoice_date'] = sheet['G3'].value\n",
        "    invoice_data['product_1'] = sheet['A15'].value\n",
        "    invoice_data['quantity_1'] = sheet['D15'].value\n",
        "    invoice_data['product_2'] = sheet['A16'].value\n",
        "    invoice_data['quantity_2'] = sheet['D16'].value\n",
        "    invoice_data['product_3'] = sheet['A17'].value\n",
        "    invoice_data['quantity_3'] = sheet['D17'].value #In case there are more than 4 products registered due to human error\n",
        "    invoice_data['product_4'] = sheet['A18'].value\n",
        "    invoice_data['quantity_4'] = sheet['D18'].value\n",
        "    invoice_data['product_5'] = sheet['A19'].value #In case there are more than 4 products registered due to human error\n",
        "    invoice_data['quantity_5'] = sheet['D19'].value\n",
        "\n",
        "    # Extract data from a range of cells\n",
        "    #items = []\n",
        "    #for row in sheet['A5:B10']:\n",
        "    #    item = {\n",
        "    #        'description': row[0].value,\n",
        "    #        'quantity': row[1].value\n",
        "    #    }\n",
        "    #    items.append(item)\n",
        "    #invoice_data['items'] = items\n",
        "\n",
        "    wb.close()\n",
        "\n",
        "    return invoice_data"
      ],
      "metadata": {
        "id": "lBd_pZRqM1R_"
      },
      "execution_count": 37,
      "outputs": []
    },
    {
      "cell_type": "code",
      "source": [
        "def extract_invoice_data(file_path):\n",
        "    wb = openpyxl.load_workbook(file_path)\n",
        "    sheet = wb.active\n",
        "\n",
        "    invoice_data = {}\n",
        "\n",
        "    # Extract data from invoice template 1\n",
        "    if sheet['A1'].value == r'請　求　書': #Check whether the invocie format is template 1 (or template 2)\n",
        "      invoice_data['file_name'] = os.path.basename(file_path)\n",
        "      invoice_data['store_name'] = sheet['A2'].value\n",
        "      invoice_data['invoice_number'] = sheet['G2'].value\n",
        "      invoice_data['invoice_date'] = sheet['G3'].value\n",
        "      invoice_data['product_1'] = sheet['A15'].value\n",
        "      invoice_data['quantity_1'] = sheet['D15'].value\n",
        "      invoice_data['product_2'] = sheet['A16'].value\n",
        "      invoice_data['quantity_2'] = sheet['D16'].value\n",
        "      invoice_data['product_3'] = sheet['A17'].value\n",
        "      invoice_data['quantity_3'] = sheet['D17'].value #In case there are more than 4 products registered due to human error\n",
        "      invoice_data['product_4'] = sheet['A18'].value\n",
        "      invoice_data['quantity_4'] = sheet['D18'].value\n",
        "      invoice_data['product_5'] = sheet['A19'].value #In case there are more than 4 products registered due to human error\n",
        "      invoice_data['quantity_5'] = sheet['D19'].value\n",
        "\n",
        "    # Extract data from invoice template 2\n",
        "    else:\n",
        "      invoice_data['file_name'] = os.path.basename(file_path)\n",
        "      invoice_data['store_name'] = {sheet['B4'].value, sheet['B6'].value}\n",
        "      invoice_data['invoice_number'] = sheet['H2'].value\n",
        "      invoice_data['invoice_date'] = sheet['H1'].value\n",
        "      invoice_data['product_1'] = sheet['B17'].value\n",
        "      invoice_data['quantity_1'] = sheet['F17'].value\n",
        "      invoice_data['product_2'] = sheet['B18'].value\n",
        "      invoice_data['quantity_2'] = sheet['F18'].value\n",
        "      invoice_data['product_3'] = sheet['B19'].value\n",
        "      invoice_data['quantity_3'] = sheet['F19'].value #In case there are more than 4 products registered due to human error\n",
        "      invoice_data['product_4'] = sheet['B20'].value\n",
        "      invoice_data['quantity_4'] = sheet['F20'].value\n",
        "      invoice_data['product_5'] = sheet['B21'].value #In case there are more than 4 products registered due to human error\n",
        "      invoice_data['quantity_5'] = sheet['F21'].value\n",
        "\n",
        "    wb.close()\n",
        "\n",
        "    return invoice_data"
      ],
      "metadata": {
        "id": "VJTG0cO5jxjM"
      },
      "execution_count": 65,
      "outputs": []
    },
    {
      "cell_type": "markdown",
      "source": [
        "## Extract Data from .xlsx File"
      ],
      "metadata": {
        "id": "cSrWum9IBSfT"
      }
    },
    {
      "cell_type": "code",
      "source": [
        "# Folder path containing the Excel files\n",
        "folder_path = '/content/drive/MyDrive/EY Recruitment Documents/invoice'\n",
        "output_folder_path = '/content/drive/MyDrive/EY Recruitment Documents/invoice_xlsx_data.xlsx'\n",
        "invoice_data_list_xlsx = []\n",
        "\n",
        "# Iterate over each file in the folder\n",
        "for file_name in os.listdir(folder_path):\n",
        "    if file_name.endswith('.xlsx'):  # Consider only .xlsx files\n",
        "        file_path = os.path.join(folder_path, file_name)\n",
        "        invoice_data_xlsx = extract_invoice_data(file_path)\n",
        "        invoice_data_list_xlsx.append(invoice_data_xlsx)"
      ],
      "metadata": {
        "id": "sMbmxESqPRMN"
      },
      "execution_count": 66,
      "outputs": []
    },
    {
      "cell_type": "code",
      "source": [
        "# Save the invoice data to the output folder\n",
        "invoice_xlsx = pd.DataFrame(invoice_data_list_xlsx)\n",
        "invoice_xlsx.to_excel(output_folder_path, index=False)\n",
        "\n",
        "# Show the invocie data in a DataFrame format\n",
        "#invoice_xlsx.head()\n",
        "invoice_xlsx.info()"
      ],
      "metadata": {
        "id": "a9P7UPZwBm4R",
        "outputId": "9467a4e1-fc52-4df3-e3de-3c64302e94cd",
        "colab": {
          "base_uri": "https://localhost:8080/"
        }
      },
      "execution_count": 67,
      "outputs": [
        {
          "output_type": "stream",
          "name": "stdout",
          "text": [
            "<class 'pandas.core.frame.DataFrame'>\n",
            "RangeIndex: 4400 entries, 0 to 4399\n",
            "Data columns (total 14 columns):\n",
            " #   Column          Non-Null Count  Dtype  \n",
            "---  ------          --------------  -----  \n",
            " 0   file_name       4400 non-null   object \n",
            " 1   store_name      4400 non-null   object \n",
            " 2   invoice_number  4400 non-null   object \n",
            " 3   invoice_date    4400 non-null   object \n",
            " 4   product_1       4400 non-null   object \n",
            " 5   quantity_1      4400 non-null   float64\n",
            " 6   product_2       4400 non-null   object \n",
            " 7   quantity_2      4400 non-null   float64\n",
            " 8   product_3       970 non-null    object \n",
            " 9   quantity_3      970 non-null    float64\n",
            " 10  product_4       0 non-null      object \n",
            " 11  quantity_4      0 non-null      object \n",
            " 12  product_5       0 non-null      object \n",
            " 13  quantity_5      0 non-null      object \n",
            "dtypes: float64(3), object(11)\n",
            "memory usage: 481.4+ KB\n"
          ]
        }
      ]
    },
    {
      "cell_type": "markdown",
      "source": [
        "## Extract Data from .xlsb File"
      ],
      "metadata": {
        "id": "T7aMJaueB_61"
      }
    },
    {
      "cell_type": "code",
      "source": [
        "# Folder path containing the Excel files\n",
        "folder_path = '/content/drive/MyDrive/EY Recruitment Documents/invoice'\n",
        "output_folder_path = '/content/drive/MyDrive/EY Recruitment Documents/invoice_xlsb_data.xlsx'\n",
        "invoice_data_list_xlsb = []\n",
        "\n",
        "# Iterate over each file in the folder\n",
        "for file_name in os.listdir(folder_path):\n",
        "    if file_name.endswith('.xlsb'):  # Consider only .xlsb files\n",
        "        file_path = os.path.join(folder_path, file_name)\n",
        "        invoice_data_xlsb = extract_invoice_data(file_path)\n",
        "        invoice_data_list_xlsb.append(invoice_data_xlsb)\n",
        "\n",
        "# Save the invoice data to the output folder\n",
        "invoice_xlsb = pd.DataFrame(invoice_data_list_xlsb)\n",
        "invoice_xlsb.to_excel(output_folder_path, index=False)\n",
        "\n",
        "# Show the invocie data in a DataFrame format\n",
        "invoice_xlsb.head()\n",
        "invoice_xlsb.info()"
      ],
      "metadata": {
        "id": "YB3p5_I_BRpB",
        "outputId": "79a0bc5d-0a28-4093-d447-bb24ad4af030",
        "colab": {
          "base_uri": "https://localhost:8080/"
        }
      },
      "execution_count": 34,
      "outputs": [
        {
          "output_type": "stream",
          "name": "stdout",
          "text": [
            "<class 'pandas.core.frame.DataFrame'>\n",
            "Index: 0 entries\n",
            "Empty DataFrame\n"
          ]
        }
      ]
    },
    {
      "cell_type": "markdown",
      "source": [
        "# Notes"
      ],
      "metadata": {
        "id": "4WPr6z3780Zl"
      }
    },
    {
      "cell_type": "code",
      "source": [
        "pd.read_excel('/content/drive/MyDrive/EY Recruitment Documents/202304000109881.xlsx')"
      ],
      "metadata": {
        "id": "6Z-GT-kzfS4x"
      },
      "execution_count": null,
      "outputs": []
    },
    {
      "cell_type": "code",
      "source": [
        "pd.read_csv('/content/drive/MyDrive/EY Recruitment Documents/202001000005241.xlsx - invoice.csv')"
      ],
      "metadata": {
        "id": "nstr4U07dSi6"
      },
      "execution_count": null,
      "outputs": []
    },
    {
      "cell_type": "code",
      "source": [
        "pd.read_csv('/content/drive/MyDrive/EY Recruitment Documents/202304000109881.xlsx - 請求書.csv')"
      ],
      "metadata": {
        "id": "DydafNwxg4E0"
      },
      "execution_count": null,
      "outputs": []
    }
  ]
}