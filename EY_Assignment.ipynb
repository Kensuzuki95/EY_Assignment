{
  "nbformat": 4,
  "nbformat_minor": 0,
  "metadata": {
    "colab": {
      "provenance": [],
      "toc_visible": true,
      "mount_file_id": "https://github.com/Kensuzuki95/EY_Assignment/blob/main/EY_Assignment.ipynb",
      "authorship_tag": "ABX9TyN00/Mcd2afhHTk720cfe/9",
      "include_colab_link": true
    },
    "kernelspec": {
      "name": "python3",
      "display_name": "Python 3"
    },
    "language_info": {
      "name": "python"
    }
  },
  "cells": [
    {
      "cell_type": "markdown",
      "metadata": {
        "id": "view-in-github",
        "colab_type": "text"
      },
      "source": [
        "<a href=\"https://colab.research.google.com/github/Kensuzuki95/EY_Assignment/blob/main/EY_Assignment.ipynb\" target=\"_parent\"><img src=\"https://colab.research.google.com/assets/colab-badge.svg\" alt=\"Open In Colab\"/></a>"
      ]
    },
    {
      "cell_type": "markdown",
      "source": [
        "#Download Packages"
      ],
      "metadata": {
        "id": "K9DRkyG8VpgH"
      }
    },
    {
      "cell_type": "code",
      "execution_count": 93,
      "metadata": {
        "id": "SCMTAD2oVSbZ",
        "colab": {
          "base_uri": "https://localhost:8080/"
        },
        "outputId": "0d5623dd-b009-4dfd-bf9e-0e457ad6d18f"
      },
      "outputs": [
        {
          "output_type": "stream",
          "name": "stdout",
          "text": [
            "Requirement already satisfied: pandas in /usr/local/lib/python3.10/dist-packages (1.5.3)\n",
            "Collecting pyxlsb\n",
            "  Downloading pyxlsb-1.0.10-py2.py3-none-any.whl (23 kB)\n",
            "Requirement already satisfied: python-dateutil>=2.8.1 in /usr/local/lib/python3.10/dist-packages (from pandas) (2.8.2)\n",
            "Requirement already satisfied: pytz>=2020.1 in /usr/local/lib/python3.10/dist-packages (from pandas) (2022.7.1)\n",
            "Requirement already satisfied: numpy>=1.21.0 in /usr/local/lib/python3.10/dist-packages (from pandas) (1.22.4)\n",
            "Requirement already satisfied: six>=1.5 in /usr/local/lib/python3.10/dist-packages (from python-dateutil>=2.8.1->pandas) (1.16.0)\n",
            "Installing collected packages: pyxlsb\n",
            "Successfully installed pyxlsb-1.0.10\n"
          ]
        }
      ],
      "source": [
        "import os\n",
        "import pandas as pd\n",
        "import xlrd\n",
        "import openpyxl\n",
        "import glob\n",
        "import shutil\n",
        "!pip install pandas pyxlsb"
      ]
    },
    {
      "cell_type": "markdown",
      "source": [
        "# Investigate Folder Content"
      ],
      "metadata": {
        "id": "QFhfMnYK8WWm"
      }
    },
    {
      "cell_type": "code",
      "source": [
        "# folder path\n",
        "dir_path = r'/content/drive/MyDrive/EY Recruitment Documents/invoice'\n",
        "count = 0\n",
        "# Iterate directory\n",
        "for path in os.listdir(dir_path):\n",
        "    # check if current path is a file\n",
        "    if os.path.isfile(os.path.join(dir_path, path)):\n",
        "        count += 1\n",
        "print('File count:', count)"
      ],
      "metadata": {
        "colab": {
          "base_uri": "https://localhost:8080/"
        },
        "id": "ss6Zu6RzyW8z",
        "outputId": "70b05a2d-34e3-4b1a-bac4-7be9d0ff8eec"
      },
      "execution_count": 58,
      "outputs": [
        {
          "output_type": "stream",
          "name": "stdout",
          "text": [
            "File count: 4406\n"
          ]
        }
      ]
    },
    {
      "cell_type": "code",
      "source": [
        "tifCounter = len(glob.glob1('/content/drive/MyDrive/EY Recruitment Documents/invoice',\"*.xlsx\"))\n",
        "tifCounter"
      ],
      "metadata": {
        "colab": {
          "base_uri": "https://localhost:8080/"
        },
        "id": "bts3cSCWwBim",
        "outputId": "74317783-0620-4e96-f7c3-4934ff53ba88"
      },
      "execution_count": 51,
      "outputs": [
        {
          "output_type": "execute_result",
          "data": {
            "text/plain": [
              "4400"
            ]
          },
          "metadata": {},
          "execution_count": 51
        }
      ]
    },
    {
      "cell_type": "code",
      "source": [
        "tifCounter = len(glob.glob1('/content/drive/MyDrive/EY Recruitment Documents/invoice',\"*.xlsb\"))\n",
        "tifCounter"
      ],
      "metadata": {
        "colab": {
          "base_uri": "https://localhost:8080/"
        },
        "id": "szEaciNRwfpW",
        "outputId": "9dae8781-0b21-44f8-ce2b-aa132e104dba"
      },
      "execution_count": 73,
      "outputs": [
        {
          "output_type": "execute_result",
          "data": {
            "text/plain": [
              "6"
            ]
          },
          "metadata": {},
          "execution_count": 73
        }
      ]
    },
    {
      "cell_type": "markdown",
      "source": [
        "## Sort Files depending on Extension Types"
      ],
      "metadata": {
        "id": "Qmp8LRD08jEA"
      }
    },
    {
      "cell_type": "code",
      "source": [
        "def extract_files_by_extension(source_folder, destination_folder, extension):\n",
        "    # Create the destination folder if it doesn't exist\n",
        "    if not os.path.exists(destination_folder):\n",
        "        os.makedirs(destination_folder)\n",
        "\n",
        "    # Iterate over files in the source folder\n",
        "    for filename in os.listdir(source_folder):\n",
        "        if filename.endswith(extension):\n",
        "            # Get the full path of the source file\n",
        "            source_file = os.path.join(source_folder, filename)\n",
        "\n",
        "            # Get the full path of the destination file\n",
        "            destination_file = os.path.join(destination_folder, filename)\n",
        "\n",
        "            # Copy the file to the destination folder\n",
        "            shutil.copy2(source_file, destination_file)"
      ],
      "metadata": {
        "id": "1XLfvSsD8bjd"
      },
      "execution_count": 76,
      "outputs": []
    },
    {
      "cell_type": "markdown",
      "source": [
        "### Folder with .xlsx extension Invoices"
      ],
      "metadata": {
        "id": "w9A4JG0ZjlmX"
      }
    },
    {
      "cell_type": "code",
      "source": [
        "# Create a folder with only .xlsx files\n",
        "source_folder = '/content/drive/MyDrive/EY Recruitment Documents/invoice'\n",
        "destination_folder = '/content/drive/MyDrive/EY Recruitment Documents/invoice_xlsx'\n",
        "extension = '.xlsx'\n",
        "\n",
        "extract_files_by_extension(source_folder, destination_folder, extension)"
      ],
      "metadata": {
        "id": "ElXZ1Stsibqs"
      },
      "execution_count": 77,
      "outputs": []
    },
    {
      "cell_type": "code",
      "source": [
        "tifCounter = len(glob.glob1('/content/drive/MyDrive/EY Recruitment Documents/invoice_xlsx',\"*.xlsx\"))\n",
        "tifCounter"
      ],
      "metadata": {
        "id": "N3HERYy_lg34",
        "outputId": "def2c39d-0c12-4628-c9f3-def8d5f98c7e",
        "colab": {
          "base_uri": "https://localhost:8080/"
        }
      },
      "execution_count": 103,
      "outputs": [
        {
          "output_type": "execute_result",
          "data": {
            "text/plain": [
              "4400"
            ]
          },
          "metadata": {},
          "execution_count": 103
        }
      ]
    },
    {
      "cell_type": "markdown",
      "source": [
        "### Folder with .xlsb extention Invoices"
      ],
      "metadata": {
        "id": "XzDtab3IjqjK"
      }
    },
    {
      "cell_type": "code",
      "source": [
        "# Create a folder with only .xlsb files\n",
        "source_folder = '/content/drive/MyDrive/EY Recruitment Documents/invoice'\n",
        "destination_folder = '/content/drive/MyDrive/EY Recruitment Documents/invoice_xlsb'\n",
        "extension = '.xlsb'\n",
        "\n",
        "extract_files_by_extension(source_folder, destination_folder, extension)"
      ],
      "metadata": {
        "id": "taPiFaifi1m2"
      },
      "execution_count": 78,
      "outputs": []
    },
    {
      "cell_type": "code",
      "source": [
        "tifCounter = len(glob.glob1('/content/drive/MyDrive/EY Recruitment Documents/invoice_xlsb',\"*.xlsb\"))\n",
        "tifCounter"
      ],
      "metadata": {
        "id": "DEIDef7dlooM",
        "outputId": "1f0cd167-f8e4-45c0-cf2d-de418f26ea87",
        "colab": {
          "base_uri": "https://localhost:8080/"
        }
      },
      "execution_count": 104,
      "outputs": [
        {
          "output_type": "execute_result",
          "data": {
            "text/plain": [
              "6"
            ]
          },
          "metadata": {},
          "execution_count": 104
        }
      ]
    },
    {
      "cell_type": "code",
      "source": [
        "def convert_xlsb_to_xlsx(input_folder, output_folder):\n",
        "    # Get a list of all files in the input folder\n",
        "    files = os.listdir(input_folder)\n",
        "\n",
        "    # Filter out only the .xlsb files\n",
        "    xlsb_files = [file for file in files if file.endswith('.xlsb')]\n",
        "\n",
        "    # Iterate over the .xlsb files and convert them to .xlsx\n",
        "    for file in xlsb_files:\n",
        "        # Construct the input file path\n",
        "        input_file_path = os.path.join(input_folder, file)\n",
        "\n",
        "        # Construct the output file path by replacing the extension and adding the output folder\n",
        "        output_file_path = os.path.join(output_folder, os.path.splitext(file)[0] + '.xlsx')\n",
        "\n",
        "        # Read the .xlsb file using pandas\n",
        "        df = pd.read_excel(input_file_path, engine='pyxlsb')\n",
        "\n",
        "        # Write the DataFrame to the .xlsx file\n",
        "        df.to_excel(output_file_path, index=False)\n",
        "\n",
        "        print(f\"Converted {input_file_path} to {output_file_path}\")"
      ],
      "metadata": {
        "id": "Xh0-niOUw1gL"
      },
      "execution_count": 110,
      "outputs": []
    },
    {
      "cell_type": "code",
      "source": [
        "# Provide the input and output folder paths\n",
        "input_folder = '/content/drive/MyDrive/EY Recruitment Documents/invoice_xlsb'\n",
        "output_folder = '/content/drive/MyDrive/EY Recruitment Documents/invoice_xlsb_to_xlsx'\n",
        "\n",
        "# Create the output folder if it doesn't exist\n",
        "os.makedirs(output_folder, exist_ok=True)\n",
        "\n",
        "convert_xlsb_to_xlsx(input_folder, output_folder)"
      ],
      "metadata": {
        "id": "5Jv43PoAxDhJ",
        "outputId": "77ec68bf-ae19-45cd-c2a7-6f502bb58905",
        "colab": {
          "base_uri": "https://localhost:8080/"
        }
      },
      "execution_count": 111,
      "outputs": [
        {
          "output_type": "stream",
          "name": "stdout",
          "text": [
            "Converted /content/drive/MyDrive/EY Recruitment Documents/invoice_xlsb/202003000008681.xlsb to /content/drive/MyDrive/EY Recruitment Documents/invoice_xlsb_to_xlsx/202003000008681.xlsx\n",
            "Converted /content/drive/MyDrive/EY Recruitment Documents/invoice_xlsb/202004000002111.xlsb to /content/drive/MyDrive/EY Recruitment Documents/invoice_xlsb_to_xlsx/202004000002111.xlsx\n",
            "Converted /content/drive/MyDrive/EY Recruitment Documents/invoice_xlsb/202010000002111.xlsb to /content/drive/MyDrive/EY Recruitment Documents/invoice_xlsb_to_xlsx/202010000002111.xlsx\n",
            "Converted /content/drive/MyDrive/EY Recruitment Documents/invoice_xlsb/202001000002111.xlsb to /content/drive/MyDrive/EY Recruitment Documents/invoice_xlsb_to_xlsx/202001000002111.xlsx\n",
            "Converted /content/drive/MyDrive/EY Recruitment Documents/invoice_xlsb/202006000008681.xlsb to /content/drive/MyDrive/EY Recruitment Documents/invoice_xlsb_to_xlsx/202006000008681.xlsx\n",
            "Converted /content/drive/MyDrive/EY Recruitment Documents/invoice_xlsb/202012000008681.xlsb to /content/drive/MyDrive/EY Recruitment Documents/invoice_xlsb_to_xlsx/202012000008681.xlsx\n"
          ]
        }
      ]
    },
    {
      "cell_type": "markdown",
      "source": [
        "#Extract Data from Files"
      ],
      "metadata": {
        "id": "5FC_jxZA8d03"
      }
    },
    {
      "cell_type": "code",
      "source": [
        "folder = '/content/drive/MyDrive/EY Recruitment Documents/invoice'\n",
        "output_file = '/content/drive/MyDrive/EY Recruitment Documents/invoice_data.xlsx'"
      ],
      "metadata": {
        "id": "OgJwLFxwgEoz"
      },
      "execution_count": 105,
      "outputs": []
    },
    {
      "cell_type": "code",
      "source": [
        "output_wb = openpyxl.Workbook()\n",
        "output_sheet = output_wb.active\n",
        "output_sheet.title = 'Invoice Data'"
      ],
      "metadata": {
        "id": "UtDPR_rfgasG"
      },
      "execution_count": 99,
      "outputs": []
    },
    {
      "cell_type": "code",
      "source": [
        "cells = ['A2', 'G2', 'G3', 'A15', 'D15', 'A16', 'D16', 'A17', 'D17', 'A18', 'D18', 'A19', 'D19']"
      ],
      "metadata": {
        "id": "Csc8bPB_hXCY"
      },
      "execution_count": 100,
      "outputs": []
    },
    {
      "cell_type": "code",
      "source": [
        "for filename in os.listdir(folder):\n",
        "  if filename.endswith('.xlsx'):\n",
        "    file = os.path.join(folder, filename)\n",
        "    workbook = openpyxl.load_workbook(file)\n",
        "    values = [workbook.active[cell].value for cell in cells]\n",
        "    output_sheet.append(values)\n",
        "\n",
        "output_wb.save(output_file)"
      ],
      "metadata": {
        "id": "nldCPKsFjytP"
      },
      "execution_count": 101,
      "outputs": []
    },
    {
      "cell_type": "code",
      "source": [
        "dataset = pd.read_excel(\n",
        "    '/content/drive/MyDrive/EY Recruitment Documents/invoice_data.xlsx'\n",
        "    ).replace(r'^s*$', float('NaN'), regex = True)\n",
        "dataset.head()\n",
        "dataset.info()\n",
        "#len(dataset)"
      ],
      "metadata": {
        "id": "RmtwaV9skF0Q",
        "outputId": "2d7134bf-f66a-4f22-dc1a-740b8004f634",
        "colab": {
          "base_uri": "https://localhost:8080/"
        }
      },
      "execution_count": 108,
      "outputs": [
        {
          "output_type": "stream",
          "name": "stdout",
          "text": [
            "<class 'pandas.core.frame.DataFrame'>\n",
            "RangeIndex: 4399 entries, 0 to 4398\n",
            "Data columns (total 9 columns):\n",
            " #   Column      Non-Null Count  Dtype  \n",
            "---  ------      --------------  -----  \n",
            " 0   Unnamed: 0  4313 non-null   object \n",
            " 1   Unnamed: 1  4313 non-null   float64\n",
            " 2   Unnamed: 2  4313 non-null   object \n",
            " 3   Unnamed: 3  4313 non-null   object \n",
            " 4   Unnamed: 4  4313 non-null   float64\n",
            " 5   Unnamed: 5  4313 non-null   object \n",
            " 6   Unnamed: 6  4313 non-null   float64\n",
            " 7   Unnamed: 7  970 non-null    object \n",
            " 8   Unnamed: 8  970 non-null    float64\n",
            "dtypes: float64(4), object(5)\n",
            "memory usage: 309.4+ KB\n"
          ]
        }
      ]
    },
    {
      "cell_type": "code",
      "source": [
        "# Add empty row on top\n",
        "#df1 = pd.DataFrame([[np.nan] * len(df.columns)], columns=df.columns)\n",
        "#df = df1.append(df, ignore_index=True)"
      ],
      "metadata": {
        "id": "BeIdxu4OntrP"
      },
      "execution_count": null,
      "outputs": []
    },
    {
      "cell_type": "markdown",
      "source": [
        "# Notes"
      ],
      "metadata": {
        "id": "4WPr6z3780Zl"
      }
    },
    {
      "cell_type": "code",
      "source": [
        "pd.read_excel('/content/drive/MyDrive/EY Recruitment Documents/202304000109881.xlsx')"
      ],
      "metadata": {
        "id": "6Z-GT-kzfS4x"
      },
      "execution_count": null,
      "outputs": []
    },
    {
      "cell_type": "code",
      "source": [
        "pd.read_csv('/content/drive/MyDrive/EY Recruitment Documents/202001000005241.xlsx - invoice.csv')"
      ],
      "metadata": {
        "id": "nstr4U07dSi6"
      },
      "execution_count": null,
      "outputs": []
    },
    {
      "cell_type": "code",
      "source": [
        "pd.read_csv('/content/drive/MyDrive/EY Recruitment Documents/202304000109881.xlsx - 請求書.csv')"
      ],
      "metadata": {
        "id": "DydafNwxg4E0"
      },
      "execution_count": null,
      "outputs": []
    }
  ]
}